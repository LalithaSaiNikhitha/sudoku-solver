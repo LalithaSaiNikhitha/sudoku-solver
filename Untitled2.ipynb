{
  "nbformat": 4,
  "nbformat_minor": 0,
  "metadata": {
    "colab": {
      "provenance": []
    },
    "kernelspec": {
      "name": "python3",
      "display_name": "Python 3"
    },
    "language_info": {
      "name": "python"
    }
  },
  "cells": [
    {
      "cell_type": "code",
      "execution_count": 4,
      "metadata": {
        "colab": {
          "base_uri": "https://localhost:8080/"
        },
        "id": "XtO-i9DsPK-p",
        "outputId": "9898760c-31cd-4027-d44b-daaa1917d391"
      },
      "outputs": [
        {
          "output_type": "stream",
          "name": "stdout",
          "text": [
            "Enter the Sudoku puzzle row by row, with each row separated by spaces.\n",
            "Use '0' to represent empty cells.\n",
            "Enter row 1: 8 0 0 0 0 0 0 0 0\n",
            "Enter row 2: 0 0 3 6 0 0 0 0 0\n",
            "Enter row 3: 0 7 0 0 9 0 2 0 0\n",
            "Enter row 4: 0 5 0 0 0 7 0 0 0\n",
            "Enter row 5: 0 0 0 0 4 5 7 0 0\n",
            "Enter row 6: 0 0 0 1 0 0 0 3 0\n",
            "Enter row 7: 0 0 1 0 0 0 0 6 8\n",
            "Enter row 8: 0 0 8 5 0 0 0 1 0\n",
            "Enter row 9: 0 9 0 0 0 0 4 0 0\n",
            "Solution:\n",
            "[8, 1, 2, 7, 5, 3, 6, 4, 9]\n",
            "[9, 4, 3, 6, 8, 2, 1, 7, 5]\n",
            "[6, 7, 5, 4, 9, 1, 2, 8, 3]\n",
            "[1, 5, 4, 2, 3, 7, 8, 9, 6]\n",
            "[3, 6, 9, 8, 4, 5, 7, 2, 1]\n",
            "[2, 8, 7, 1, 6, 9, 5, 3, 4]\n",
            "[5, 2, 1, 9, 7, 4, 3, 6, 8]\n",
            "[4, 3, 8, 5, 2, 6, 9, 1, 7]\n",
            "[7, 9, 6, 3, 1, 8, 4, 5, 2]\n"
          ]
        }
      ],
      "source": [
        "def solve_sudoku(board):\n",
        "    empty_cell = find_empty_cell(board)\n",
        "    if not empty_cell:\n",
        "        return True\n",
        "\n",
        "    row, col = empty_cell\n",
        "\n",
        "    for num in range(1, 10):\n",
        "        if is_valid_move(board, row, col, num):\n",
        "            board[row][col] = num\n",
        "            if solve_sudoku(board):\n",
        "                return True\n",
        "            board[row][col] = 0\n",
        "\n",
        "    return False\n",
        "\n",
        "def find_empty_cell(board):\n",
        "    for row in range(9):\n",
        "        for col in range(9):\n",
        "            if board[row][col] == 0:\n",
        "                return (row, col)\n",
        "    return None\n",
        "\n",
        "def is_valid_move(board, row, col, num):\n",
        "    return (\n",
        "        not used_in_row(board, row, num) and\n",
        "        not used_in_col(board, col, num) and\n",
        "        not used_in_box(board, row - row % 3, col - col % 3, num)\n",
        "    )\n",
        "\n",
        "def used_in_row(board, row, num):\n",
        "    return num in board[row]\n",
        "\n",
        "def used_in_col(board, col, num):\n",
        "    return num in [board[i][col] for i in range(9)]\n",
        "\n",
        "def used_in_box(board, box_start_row, box_start_col, num):\n",
        "    for i in range(3):\n",
        "        for j in range(3):\n",
        "            if board[i + box_start_row][j + box_start_col] == num:\n",
        "                return True\n",
        "    return False\n",
        "\n",
        "def print_board(board):\n",
        "    for row in board:\n",
        "        print(row)\n",
        "\n",
        "def get_user_input():\n",
        "    print(\"Enter the Sudoku puzzle row by row, with each row separated by spaces.\")\n",
        "    print(\"Use '0' to represent empty cells.\")\n",
        "    puzzle = []\n",
        "    for i in range(9):\n",
        "        row = input(f\"Enter row {i + 1}: \").strip().split()\n",
        "        puzzle.append([int(cell) for cell in row])\n",
        "    return puzzle\n",
        "\n",
        "user_sudoku_board = get_user_input()\n",
        "\n",
        "if solve_sudoku(user_sudoku_board):\n",
        "    print(\"Solution:\")\n",
        "    print_board(user_sudoku_board)\n",
        "else:\n",
        "    print(\"No solution exists.\")\n",
        "\n"
      ]
    }
  ]
}